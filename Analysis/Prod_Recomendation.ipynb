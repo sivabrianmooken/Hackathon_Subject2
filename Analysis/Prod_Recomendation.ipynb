{
 "cells": [
  {
   "cell_type": "code",
   "execution_count": 1,
   "metadata": {},
   "outputs": [
    {
     "name": "stdout",
     "output_type": "stream",
     "text": [
      "Recommended products for customer 15804 : ['CREAM HANGING HEART T-LIGHT HOLDER', 'REGENCY CAKESTAND 3 TIER', 'JUMBO BAG RED RETROSPOT', 'ASSORTED COLOUR BIRD ORNAMENT', 'PARTY BUNTING']\n"
     ]
    }
   ],
   "source": [
    "import pandas as pd\n",
    "\n",
    "df = pd.read_excel('D:/Hackathon_Subject2/DataFiles/output1.3.xlsx')\n",
    "\n",
    "def recommend_products(customer_id, df, threshold=2, top_n=5):\n",
    "    # Convert customer_id to string\n",
    "    customer_id = str(customer_id)\n",
    "    \n",
    "    # Find products purchased by the specified customer\n",
    "    customer_products = set(df[df['CustomerID'] == customer_id]['StockCode'])\n",
    "    \n",
    "    # Find customers who purchased the same products\n",
    "    similar_customers = df[df['StockCode'].isin(customer_products)]['CustomerID'].unique()\n",
    "    \n",
    "    # Filter out the specified customer from the similar customers\n",
    "    similar_customers = set(similar_customers) - set([customer_id])\n",
    "    \n",
    "    # Calculate the similarity score for each similar customer\n",
    "    similarity_scores = {}\n",
    "    for sim_customer in similar_customers:\n",
    "        sim_customer_products = set(df[df['CustomerID'] == sim_customer]['StockCode'])\n",
    "        similarity_scores[sim_customer] = len(customer_products.intersection(sim_customer_products))\n",
    "    \n",
    "    # Filter out customers below the similarity threshold\n",
    "    similar_customers = [cid for cid, score in similarity_scores.items() if score >= threshold]\n",
    "    \n",
    "    if not similar_customers:\n",
    "        # Fallback strategy: Recommend popular products\n",
    "        popular_products = df['StockCode'].value_counts().index.tolist()\n",
    "        recommendations = popular_products[:top_n]\n",
    "    else:\n",
    "        # Find other products purchased by similar customers\n",
    "        other_products = df[df['CustomerID'].isin(similar_customers) & ~df['StockCode'].isin(customer_products)]['StockCode'].unique()\n",
    "        \n",
    "        # Aggregate the counts of these products\n",
    "        product_counts = df[df['CustomerID'].isin(similar_customers) & df['StockCode'].isin(other_products)].groupby('StockCode').size().sort_values(ascending=False)\n",
    "        \n",
    "        # Recommend the top products\n",
    "        recommendations = product_counts.head(top_n).index.tolist()\n",
    "    \n",
    "    # Map product codes to descriptions\n",
    "    descriptions = df[df['StockCode'].isin(recommendations)][['StockCode', 'Description']].drop_duplicates().set_index('StockCode').to_dict()['Description']\n",
    "    \n",
    "    # Get descriptions for recommendations\n",
    "    recommendations_with_description = [descriptions.get(code) for code in recommendations]\n",
    "    \n",
    "    return recommendations_with_description\n",
    "\n",
    "# Example usage\n",
    "customer_id = 15804\n",
    "recommendations = recommend_products(customer_id, df, threshold=2, top_n=5)\n",
    "print(\"Recommended products for customer\", customer_id, \":\", recommendations)\n"
   ]
  }
 ],
 "metadata": {
  "kernelspec": {
   "display_name": "Python 3",
   "language": "python",
   "name": "python3"
  },
  "language_info": {
   "codemirror_mode": {
    "name": "ipython",
    "version": 3
   },
   "file_extension": ".py",
   "mimetype": "text/x-python",
   "name": "python",
   "nbconvert_exporter": "python",
   "pygments_lexer": "ipython3",
   "version": "3.12.3"
  }
 },
 "nbformat": 4,
 "nbformat_minor": 2
}
